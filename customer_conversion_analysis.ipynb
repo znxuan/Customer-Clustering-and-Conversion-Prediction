{
 "cells": [
  {
   "cell_type": "markdown",
   "id": "a0cb5397",
   "metadata": {},
   "source": [
    "# Triggering the Buy: What Drives Spending, and How Can Pricing Win?"
   ]
  },
  {
   "cell_type": "markdown",
   "id": "6ce9a422",
   "metadata": {},
   "source": [
    "##### Prepared By: Team What a Small World\n",
    "##### Team Members: Keoh Jun Min, Tan Zin Xuan, Tan Suo Jie, Liew Yee Zhe"
   ]
  },
  {
   "cell_type": "markdown",
   "id": "bc78b965",
   "metadata": {},
   "source": [
    "## 0. Loading the Data and Required Libraries"
   ]
  },
  {
   "cell_type": "code",
   "execution_count": 1,
   "id": "0b92eb2d",
   "metadata": {},
   "outputs": [],
   "source": [
    "# Load the required libraries\n",
    "import pandas as pd\n",
    "import numpy as np\n",
    "import matplotlib.pyplot as plt\n",
    "import seaborn as sns\n",
    "import warnings\n",
    "from sklearn.preprocessing import OneHotEncoder\n",
    "from sklearn.preprocessing import StandardScaler\n",
    "from sklearn.linear_model import LogisticRegression\n",
    "from sklearn.tree import DecisionTreeClassifier\n",
    "from sklearn.cluster import KMeans\n",
    "from sklearn.ensemble import RandomForestClassifier\n",
    "from sklearn.ensemble import GradientBoostingClassifier\n",
    "from xgboost import XGBClassifier\n",
    "from sklearn.model_selection import GridSearchCV\n",
    "from sklearn.metrics import silhouette_score\n",
    "from sklearn.metrics import accuracy_score\n",
    "from sklearn.metrics import confusion_matrix\n",
    "from sklearn.metrics import classification_report\n",
    "from sklearn.model_selection import train_test_split\n",
    "from sklearn.exceptions import ConvergenceWarning"
   ]
  },
  {
   "cell_type": "code",
   "execution_count": 2,
   "id": "8fc1a0b1",
   "metadata": {},
   "outputs": [],
   "source": [
    "# Load the dataset\n",
    "customer = pd.read_csv(\"G:/My Drive/Data Futures Week Hackathon/Data/customer_conversion.csv\")\n",
    "\n",
    "# Set the index to \"ID\"\n",
    "customer.set_index(\"ID\", inplace = True)"
   ]
  },
  {
   "cell_type": "markdown",
   "id": "d3856903",
   "metadata": {},
   "source": [
    "## 1. Data Inspection and Preprocessing"
   ]
  },
  {
   "cell_type": "markdown",
   "id": "f06b6228",
   "metadata": {},
   "source": [
    "### 1.1 Data Inspection"
   ]
  },
  {
   "cell_type": "code",
   "execution_count": 3,
   "id": "bfb909af",
   "metadata": {},
   "outputs": [
    {
     "name": "stdout",
     "output_type": "stream",
     "text": [
      "<class 'pandas.core.frame.DataFrame'>\n",
      "Index: 4612 entries, EXT001 to EXT4612\n",
      "Data columns (total 14 columns):\n",
      " #   Column                 Non-Null Count  Dtype  \n",
      "---  ------                 --------------  -----  \n",
      " 0   age                    4612 non-null   int64  \n",
      " 1   current_occupation     4612 non-null   object \n",
      " 2   first_interaction      4612 non-null   object \n",
      " 3   profile_completed      4612 non-null   object \n",
      " 4   website_visits         4612 non-null   int64  \n",
      " 5   time_spent_on_website  4612 non-null   int64  \n",
      " 6   page_views_per_visit   4612 non-null   float64\n",
      " 7   last_activity          4612 non-null   object \n",
      " 8   print_media_type1      4612 non-null   object \n",
      " 9   print_media_type2      4612 non-null   object \n",
      " 10  digital_media          4612 non-null   object \n",
      " 11  educational_channels   4612 non-null   object \n",
      " 12  referral               4612 non-null   object \n",
      " 13  status                 4612 non-null   int64  \n",
      "dtypes: float64(1), int64(4), object(9)\n",
      "memory usage: 540.5+ KB\n"
     ]
    },
    {
     "data": {
      "application/vnd.microsoft.datawrangler.viewer.v0+json": {
       "columns": [
        {
         "name": "ID",
         "rawType": "object",
         "type": "string"
        },
        {
         "name": "age",
         "rawType": "int64",
         "type": "integer"
        },
        {
         "name": "current_occupation",
         "rawType": "object",
         "type": "string"
        },
        {
         "name": "first_interaction",
         "rawType": "object",
         "type": "string"
        },
        {
         "name": "profile_completed",
         "rawType": "object",
         "type": "string"
        },
        {
         "name": "website_visits",
         "rawType": "int64",
         "type": "integer"
        },
        {
         "name": "time_spent_on_website",
         "rawType": "int64",
         "type": "integer"
        },
        {
         "name": "page_views_per_visit",
         "rawType": "float64",
         "type": "float"
        },
        {
         "name": "last_activity",
         "rawType": "object",
         "type": "string"
        },
        {
         "name": "print_media_type1",
         "rawType": "object",
         "type": "string"
        },
        {
         "name": "print_media_type2",
         "rawType": "object",
         "type": "string"
        },
        {
         "name": "digital_media",
         "rawType": "object",
         "type": "string"
        },
        {
         "name": "educational_channels",
         "rawType": "object",
         "type": "string"
        },
        {
         "name": "referral",
         "rawType": "object",
         "type": "string"
        },
        {
         "name": "status",
         "rawType": "int64",
         "type": "integer"
        }
       ],
       "conversionMethod": "pd.DataFrame",
       "ref": "29e40487-bccf-4467-b0ed-7924ecceeef6",
       "rows": [
        [
         "EXT001",
         "57",
         "Unemployed",
         "Website",
         "High",
         "7",
         "1639",
         "1.861",
         "Website Activity",
         "Yes",
         "No",
         "Yes",
         "No",
         "No",
         "1"
        ],
        [
         "EXT002",
         "56",
         "Professional",
         "Mobile App",
         "Medium",
         "2",
         "83",
         "0.32",
         "Website Activity",
         "No",
         "No",
         "No",
         "Yes",
         "No",
         "0"
        ],
        [
         "EXT003",
         "52",
         "Professional",
         "Website",
         "Medium",
         "3",
         "330",
         "0.074",
         "Website Activity",
         "No",
         "No",
         "Yes",
         "No",
         "No",
         "0"
        ],
        [
         "EXT004",
         "53",
         "Unemployed",
         "Website",
         "High",
         "4",
         "464",
         "2.057",
         "Website Activity",
         "No",
         "No",
         "No",
         "No",
         "No",
         "1"
        ],
        [
         "EXT005",
         "23",
         "Student",
         "Website",
         "High",
         "4",
         "600",
         "16.914",
         "Email Activity",
         "No",
         "No",
         "No",
         "No",
         "No",
         "0"
        ]
       ],
       "shape": {
        "columns": 14,
        "rows": 5
       }
      },
      "text/html": [
       "<div>\n",
       "<style scoped>\n",
       "    .dataframe tbody tr th:only-of-type {\n",
       "        vertical-align: middle;\n",
       "    }\n",
       "\n",
       "    .dataframe tbody tr th {\n",
       "        vertical-align: top;\n",
       "    }\n",
       "\n",
       "    .dataframe thead th {\n",
       "        text-align: right;\n",
       "    }\n",
       "</style>\n",
       "<table border=\"1\" class=\"dataframe\">\n",
       "  <thead>\n",
       "    <tr style=\"text-align: right;\">\n",
       "      <th></th>\n",
       "      <th>age</th>\n",
       "      <th>current_occupation</th>\n",
       "      <th>first_interaction</th>\n",
       "      <th>profile_completed</th>\n",
       "      <th>website_visits</th>\n",
       "      <th>time_spent_on_website</th>\n",
       "      <th>page_views_per_visit</th>\n",
       "      <th>last_activity</th>\n",
       "      <th>print_media_type1</th>\n",
       "      <th>print_media_type2</th>\n",
       "      <th>digital_media</th>\n",
       "      <th>educational_channels</th>\n",
       "      <th>referral</th>\n",
       "      <th>status</th>\n",
       "    </tr>\n",
       "    <tr>\n",
       "      <th>ID</th>\n",
       "      <th></th>\n",
       "      <th></th>\n",
       "      <th></th>\n",
       "      <th></th>\n",
       "      <th></th>\n",
       "      <th></th>\n",
       "      <th></th>\n",
       "      <th></th>\n",
       "      <th></th>\n",
       "      <th></th>\n",
       "      <th></th>\n",
       "      <th></th>\n",
       "      <th></th>\n",
       "      <th></th>\n",
       "    </tr>\n",
       "  </thead>\n",
       "  <tbody>\n",
       "    <tr>\n",
       "      <th>EXT001</th>\n",
       "      <td>57</td>\n",
       "      <td>Unemployed</td>\n",
       "      <td>Website</td>\n",
       "      <td>High</td>\n",
       "      <td>7</td>\n",
       "      <td>1639</td>\n",
       "      <td>1.861</td>\n",
       "      <td>Website Activity</td>\n",
       "      <td>Yes</td>\n",
       "      <td>No</td>\n",
       "      <td>Yes</td>\n",
       "      <td>No</td>\n",
       "      <td>No</td>\n",
       "      <td>1</td>\n",
       "    </tr>\n",
       "    <tr>\n",
       "      <th>EXT002</th>\n",
       "      <td>56</td>\n",
       "      <td>Professional</td>\n",
       "      <td>Mobile App</td>\n",
       "      <td>Medium</td>\n",
       "      <td>2</td>\n",
       "      <td>83</td>\n",
       "      <td>0.320</td>\n",
       "      <td>Website Activity</td>\n",
       "      <td>No</td>\n",
       "      <td>No</td>\n",
       "      <td>No</td>\n",
       "      <td>Yes</td>\n",
       "      <td>No</td>\n",
       "      <td>0</td>\n",
       "    </tr>\n",
       "    <tr>\n",
       "      <th>EXT003</th>\n",
       "      <td>52</td>\n",
       "      <td>Professional</td>\n",
       "      <td>Website</td>\n",
       "      <td>Medium</td>\n",
       "      <td>3</td>\n",
       "      <td>330</td>\n",
       "      <td>0.074</td>\n",
       "      <td>Website Activity</td>\n",
       "      <td>No</td>\n",
       "      <td>No</td>\n",
       "      <td>Yes</td>\n",
       "      <td>No</td>\n",
       "      <td>No</td>\n",
       "      <td>0</td>\n",
       "    </tr>\n",
       "    <tr>\n",
       "      <th>EXT004</th>\n",
       "      <td>53</td>\n",
       "      <td>Unemployed</td>\n",
       "      <td>Website</td>\n",
       "      <td>High</td>\n",
       "      <td>4</td>\n",
       "      <td>464</td>\n",
       "      <td>2.057</td>\n",
       "      <td>Website Activity</td>\n",
       "      <td>No</td>\n",
       "      <td>No</td>\n",
       "      <td>No</td>\n",
       "      <td>No</td>\n",
       "      <td>No</td>\n",
       "      <td>1</td>\n",
       "    </tr>\n",
       "    <tr>\n",
       "      <th>EXT005</th>\n",
       "      <td>23</td>\n",
       "      <td>Student</td>\n",
       "      <td>Website</td>\n",
       "      <td>High</td>\n",
       "      <td>4</td>\n",
       "      <td>600</td>\n",
       "      <td>16.914</td>\n",
       "      <td>Email Activity</td>\n",
       "      <td>No</td>\n",
       "      <td>No</td>\n",
       "      <td>No</td>\n",
       "      <td>No</td>\n",
       "      <td>No</td>\n",
       "      <td>0</td>\n",
       "    </tr>\n",
       "  </tbody>\n",
       "</table>\n",
       "</div>"
      ],
      "text/plain": [
       "        age current_occupation first_interaction profile_completed  \\\n",
       "ID                                                                   \n",
       "EXT001   57         Unemployed           Website              High   \n",
       "EXT002   56       Professional        Mobile App            Medium   \n",
       "EXT003   52       Professional           Website            Medium   \n",
       "EXT004   53         Unemployed           Website              High   \n",
       "EXT005   23            Student           Website              High   \n",
       "\n",
       "        website_visits  time_spent_on_website  page_views_per_visit  \\\n",
       "ID                                                                    \n",
       "EXT001               7                   1639                 1.861   \n",
       "EXT002               2                     83                 0.320   \n",
       "EXT003               3                    330                 0.074   \n",
       "EXT004               4                    464                 2.057   \n",
       "EXT005               4                    600                16.914   \n",
       "\n",
       "           last_activity print_media_type1 print_media_type2 digital_media  \\\n",
       "ID                                                                           \n",
       "EXT001  Website Activity               Yes                No           Yes   \n",
       "EXT002  Website Activity                No                No            No   \n",
       "EXT003  Website Activity                No                No           Yes   \n",
       "EXT004  Website Activity                No                No            No   \n",
       "EXT005    Email Activity                No                No            No   \n",
       "\n",
       "       educational_channels referral  status  \n",
       "ID                                            \n",
       "EXT001                   No       No       1  \n",
       "EXT002                  Yes       No       0  \n",
       "EXT003                   No       No       0  \n",
       "EXT004                   No       No       1  \n",
       "EXT005                   No       No       0  "
      ]
     },
     "execution_count": 3,
     "metadata": {},
     "output_type": "execute_result"
    }
   ],
   "source": [
    "# Shape of the dataset\n",
    "customer.shape\n",
    "\n",
    "# Examine the structure of the dataset\n",
    "customer.info()\n",
    "\n",
    "# Display the first few rows of the dataset\n",
    "customer.head()"
   ]
  },
  {
   "cell_type": "markdown",
   "id": "c71e14e9",
   "metadata": {},
   "source": [
    "### 1.2 Missing Values"
   ]
  },
  {
   "cell_type": "code",
   "execution_count": 4,
   "id": "37c93292",
   "metadata": {},
   "outputs": [
    {
     "data": {
      "text/plain": [
       "age                      0\n",
       "current_occupation       0\n",
       "first_interaction        0\n",
       "profile_completed        0\n",
       "website_visits           0\n",
       "time_spent_on_website    0\n",
       "page_views_per_visit     0\n",
       "last_activity            0\n",
       "print_media_type1        0\n",
       "print_media_type2        0\n",
       "digital_media            0\n",
       "educational_channels     0\n",
       "referral                 0\n",
       "status                   0\n",
       "dtype: int64"
      ]
     },
     "execution_count": 4,
     "metadata": {},
     "output_type": "execute_result"
    }
   ],
   "source": [
    "# Check for missing values\n",
    "customer.isnull().sum()"
   ]
  },
  {
   "cell_type": "markdown",
   "id": "c1974a82",
   "metadata": {},
   "source": [
    "### 1.3 Abnormal Values"
   ]
  },
  {
   "cell_type": "code",
   "execution_count": 5,
   "id": "aedf9ed2",
   "metadata": {},
   "outputs": [
    {
     "data": {
      "application/vnd.microsoft.datawrangler.viewer.v0+json": {
       "columns": [
        {
         "name": "index",
         "rawType": "object",
         "type": "string"
        },
        {
         "name": "age",
         "rawType": "float64",
         "type": "float"
        },
        {
         "name": "website_visits",
         "rawType": "float64",
         "type": "float"
        },
        {
         "name": "time_spent_on_website",
         "rawType": "float64",
         "type": "float"
        },
        {
         "name": "page_views_per_visit",
         "rawType": "float64",
         "type": "float"
        },
        {
         "name": "status",
         "rawType": "float64",
         "type": "float"
        }
       ],
       "conversionMethod": "pd.DataFrame",
       "ref": "3e89d27b-1f04-40a0-b15a-6207d4605d2a",
       "rows": [
        [
         "count",
         "4612.0",
         "4612.0",
         "4612.0",
         "4612.0",
         "4612.0"
        ],
        [
         "mean",
         "46.20121422376409",
         "3.566782307025152",
         "724.0112749349523",
         "3.0261255420641806",
         "0.29856895056374677"
        ],
        [
         "std",
         "13.161454018142775",
         "2.829133646785943",
         "743.828682825259",
         "1.9681246688859453",
         "0.45767996569956915"
        ],
        [
         "min",
         "18.0",
         "0.0",
         "0.0",
         "0.0",
         "0.0"
        ],
        [
         "25%",
         "36.0",
         "2.0",
         "148.75",
         "2.07775",
         "0.0"
        ],
        [
         "50%",
         "51.0",
         "3.0",
         "376.0",
         "2.792",
         "0.0"
        ],
        [
         "75%",
         "57.0",
         "5.0",
         "1336.75",
         "3.7562499999999996",
         "1.0"
        ],
        [
         "max",
         "63.0",
         "30.0",
         "2537.0",
         "18.434",
         "1.0"
        ]
       ],
       "shape": {
        "columns": 5,
        "rows": 8
       }
      },
      "text/html": [
       "<div>\n",
       "<style scoped>\n",
       "    .dataframe tbody tr th:only-of-type {\n",
       "        vertical-align: middle;\n",
       "    }\n",
       "\n",
       "    .dataframe tbody tr th {\n",
       "        vertical-align: top;\n",
       "    }\n",
       "\n",
       "    .dataframe thead th {\n",
       "        text-align: right;\n",
       "    }\n",
       "</style>\n",
       "<table border=\"1\" class=\"dataframe\">\n",
       "  <thead>\n",
       "    <tr style=\"text-align: right;\">\n",
       "      <th></th>\n",
       "      <th>age</th>\n",
       "      <th>website_visits</th>\n",
       "      <th>time_spent_on_website</th>\n",
       "      <th>page_views_per_visit</th>\n",
       "      <th>status</th>\n",
       "    </tr>\n",
       "  </thead>\n",
       "  <tbody>\n",
       "    <tr>\n",
       "      <th>count</th>\n",
       "      <td>4612.000000</td>\n",
       "      <td>4612.000000</td>\n",
       "      <td>4612.000000</td>\n",
       "      <td>4612.000000</td>\n",
       "      <td>4612.000000</td>\n",
       "    </tr>\n",
       "    <tr>\n",
       "      <th>mean</th>\n",
       "      <td>46.201214</td>\n",
       "      <td>3.566782</td>\n",
       "      <td>724.011275</td>\n",
       "      <td>3.026126</td>\n",
       "      <td>0.298569</td>\n",
       "    </tr>\n",
       "    <tr>\n",
       "      <th>std</th>\n",
       "      <td>13.161454</td>\n",
       "      <td>2.829134</td>\n",
       "      <td>743.828683</td>\n",
       "      <td>1.968125</td>\n",
       "      <td>0.457680</td>\n",
       "    </tr>\n",
       "    <tr>\n",
       "      <th>min</th>\n",
       "      <td>18.000000</td>\n",
       "      <td>0.000000</td>\n",
       "      <td>0.000000</td>\n",
       "      <td>0.000000</td>\n",
       "      <td>0.000000</td>\n",
       "    </tr>\n",
       "    <tr>\n",
       "      <th>25%</th>\n",
       "      <td>36.000000</td>\n",
       "      <td>2.000000</td>\n",
       "      <td>148.750000</td>\n",
       "      <td>2.077750</td>\n",
       "      <td>0.000000</td>\n",
       "    </tr>\n",
       "    <tr>\n",
       "      <th>50%</th>\n",
       "      <td>51.000000</td>\n",
       "      <td>3.000000</td>\n",
       "      <td>376.000000</td>\n",
       "      <td>2.792000</td>\n",
       "      <td>0.000000</td>\n",
       "    </tr>\n",
       "    <tr>\n",
       "      <th>75%</th>\n",
       "      <td>57.000000</td>\n",
       "      <td>5.000000</td>\n",
       "      <td>1336.750000</td>\n",
       "      <td>3.756250</td>\n",
       "      <td>1.000000</td>\n",
       "    </tr>\n",
       "    <tr>\n",
       "      <th>max</th>\n",
       "      <td>63.000000</td>\n",
       "      <td>30.000000</td>\n",
       "      <td>2537.000000</td>\n",
       "      <td>18.434000</td>\n",
       "      <td>1.000000</td>\n",
       "    </tr>\n",
       "  </tbody>\n",
       "</table>\n",
       "</div>"
      ],
      "text/plain": [
       "               age  website_visits  time_spent_on_website  \\\n",
       "count  4612.000000     4612.000000            4612.000000   \n",
       "mean     46.201214        3.566782             724.011275   \n",
       "std      13.161454        2.829134             743.828683   \n",
       "min      18.000000        0.000000               0.000000   \n",
       "25%      36.000000        2.000000             148.750000   \n",
       "50%      51.000000        3.000000             376.000000   \n",
       "75%      57.000000        5.000000            1336.750000   \n",
       "max      63.000000       30.000000            2537.000000   \n",
       "\n",
       "       page_views_per_visit       status  \n",
       "count           4612.000000  4612.000000  \n",
       "mean               3.026126     0.298569  \n",
       "std                1.968125     0.457680  \n",
       "min                0.000000     0.000000  \n",
       "25%                2.077750     0.000000  \n",
       "50%                2.792000     0.000000  \n",
       "75%                3.756250     1.000000  \n",
       "max               18.434000     1.000000  "
      ]
     },
     "execution_count": 5,
     "metadata": {},
     "output_type": "execute_result"
    }
   ],
   "source": [
    "# Check for abnormal numeric values\n",
    "customer.describe()"
   ]
  },
  {
   "cell_type": "code",
   "execution_count": 6,
   "id": "9150688b",
   "metadata": {},
   "outputs": [
    {
     "name": "stdout",
     "output_type": "stream",
     "text": [
      "current_occupation\n",
      "Professional    2616\n",
      "Unemployed      1441\n",
      "Student          555\n",
      "Name: count, dtype: int64\n",
      "first_interaction\n",
      "Website       2542\n",
      "Mobile App    2070\n",
      "Name: count, dtype: int64\n",
      "profile_completed\n",
      "High      2264\n",
      "Medium    2241\n",
      "Low        107\n",
      "Name: count, dtype: int64\n",
      "last_activity\n",
      "Email Activity      2278\n",
      "Phone Activity      1234\n",
      "Website Activity    1100\n",
      "Name: count, dtype: int64\n"
     ]
    }
   ],
   "source": [
    "# Check for abnornal categorical values\n",
    "print(customer[\"current_occupation\"].value_counts())\n",
    "print(customer[\"first_interaction\"].value_counts())\n",
    "print(customer[\"profile_completed\"].value_counts())\n",
    "print(customer[\"last_activity\"].value_counts())"
   ]
  },
  {
   "cell_type": "markdown",
   "id": "7e9b9d6c",
   "metadata": {},
   "source": [
    "### 1.4 (Low/High) Cardinality"
   ]
  },
  {
   "cell_type": "code",
   "execution_count": 7,
   "id": "04f414ae",
   "metadata": {},
   "outputs": [
    {
     "name": "stdout",
     "output_type": "stream",
     "text": [
      "3\n",
      "2\n",
      "3\n",
      "3\n"
     ]
    }
   ],
   "source": [
    "# Check for cardinality of categorical variables\n",
    "print(customer[\"current_occupation\"].nunique())\n",
    "print(customer[\"first_interaction\"].nunique())\n",
    "print(customer[\"profile_completed\"].nunique())\n",
    "print(customer[\"last_activity\"].nunique())"
   ]
  },
  {
   "cell_type": "markdown",
   "id": "331758ec",
   "metadata": {},
   "source": [
    "### 1.5 Multicollinearity"
   ]
  },
  {
   "cell_type": "code",
   "execution_count": 8,
   "id": "3bb8d67b",
   "metadata": {},
   "outputs": [
    {
     "data": {
      "text/plain": [
       "<Axes: >"
      ]
     },
     "execution_count": 8,
     "metadata": {},
     "output_type": "execute_result"
    },
    {
     "data": {
      "image/png": "[encoded data removed]",
      "text/plain": [
       "<Figure size 640x480 with 2 Axes>"
      ]
     },
     "metadata": {},
     "output_type": "display_data"
    }
   ],
   "source": [
    "# Check for multicollinearity\n",
    "correlation_matrix = customer.select_dtypes(include = \"number\").drop(columns = \"status\").corr()\n",
    "sns.heatmap(correlation_matrix)"
   ]
  },
  {
   "cell_type": "markdown",
   "id": "37d27f32",
   "metadata": {},
   "source": [
    "### 1.6 Class Imbalance"
   ]
  },
  {
   "cell_type": "code",
   "execution_count": 9,
   "id": "e2ec9106",
   "metadata": {},
   "outputs": [
    {
     "data": {
      "image/png": "[encoded data removed]",
      "text/plain": [
       "<Figure size 640x480 with 1 Axes>"
      ]
     },
     "metadata": {},
     "output_type": "display_data"
    }
   ],
   "source": [
    "# Class imbalance\n",
    "customer[\"status\"].value_counts(normalize = True).plot(kind = \"bar\")\n",
    "plt.xlabel(\"Status\")\n",
    "plt.ylabel(\"Proportion\")\n",
    "plt.title(\"Proportion of Customer Conversion Status\")\n",
    "plt.xticks(rotation = 0, ticks = [0, 1], labels = [\"Unonverted\", \"Converted\"]);"
   ]
  },
  {
   "cell_type": "markdown",
   "id": "e3e57adc",
   "metadata": {},
   "source": [
    "## 2. Exploratory Data Analysis (EDA)"
   ]
  },
  {
   "cell_type": "markdown",
   "id": "0f11530e",
   "metadata": {},
   "source": [
    "### 2.1 Customer Conversion by Occupation"
   ]
  },
  {
   "cell_type": "code",
   "execution_count": 10,
   "id": "0b075f41",
   "metadata": {},
   "outputs": [
    {
     "data": {
      "image/png": "[encoded data removed]",
      "text/plain": [
       "<Figure size 640x480 with 1 Axes>"
      ]
     },
     "metadata": {},
     "output_type": "display_data"
    }
   ],
   "source": [
    "# Stacked bar chart of customer conversion by occupation\n",
    "sns.countplot(\n",
    "    data = customer,\n",
    "    x = \"current_occupation\",\n",
    "    hue = \"status\",\n",
    "    palette = [\"#1f77b4\", \"#ff7f0e\"],\n",
    ")\n",
    "plt.title(\"Customer Conversion by Occupation\")\n",
    "plt.xlabel(\"Occupation\")\n",
    "plt.ylabel(\"Count\")\n",
    "plt.legend(\n",
    "    title = \"Conversion Status\", \n",
    "    labels = [\"Unconverted\", \"Converted\"], \n",
    "    bbox_to_anchor = (1.00, 1), \n",
    "    loc = \"best\"\n",
    ");\n",
    "\n",
    "# save plot to outputs folder with dpi 300\n",
    "plt.savefig(\"outputs/customer_conversion_by_occupation.png\", dpi = 300, bbox_inches = \"tight\")"
   ]
  },
  {
   "cell_type": "markdown",
   "id": "370d63bc",
   "metadata": {},
   "source": [
    "### 2.2 Distribution of Age by Conversion Status"
   ]
  },
  {
   "cell_type": "code",
   "execution_count": 11,
   "id": "1fa012b8",
   "metadata": {},
   "outputs": [
    {
     "data": {
      "image/png": "[encoded data removed]",
      "text/plain": [
       "<Figure size 640x480 with 2 Axes>"
      ]
     },
     "metadata": {},
     "output_type": "display_data"
    }
   ],
   "source": [
    "# Histograms of age by customer conversion status\n",
    "fig, axes = plt.subplots(2, 1)\n",
    "fig.suptitle(\"Histogram of Age\", y=0.95)\n",
    "\n",
    "sns.histplot(\n",
    "    data=customer[customer[\"status\"] == 0],\n",
    "    x=\"age\",\n",
    "    color=\"#1f77b4\",\n",
    "    bins=12,\n",
    "    ax=axes[0]\n",
    ")\n",
    "sns.histplot(\n",
    "    data=customer[customer[\"status\"] == 1],\n",
    "    x=\"age\",\n",
    "    color=\"#ff7f0e\",\n",
    "    bins=12,\n",
    "    ax=axes[1]\n",
    ")\n",
    "\n",
    "axes[0].set_title(\"Unconverted Customers\", loc = \"left\", fontsize = 10)\n",
    "axes[0].set_xlabel(\"Age\")\n",
    "axes[0].set_ylabel(\"Count\")\n",
    "\n",
    "axes[1].set_title(\"Converted Customers\", loc = \"left\", fontsize = 10)\n",
    "axes[1].set_xlabel(\"Age\")\n",
    "axes[1].set_ylabel(\"Count\")\n",
    "\n",
    "plt.tight_layout();\n",
    "\n",
    "# save plot to outputs folder with dpi 300\n",
    "plt.savefig(\"outputs/histogram_age.png\", dpi = 300, bbox_inches = \"tight\")"
   ]
  },
  {
   "cell_type": "markdown",
   "id": "ec8564d1",
   "metadata": {},
   "source": [
    "### 2.3 Last Engagement Channel by Conversion Status"
   ]
  },
  {
   "cell_type": "code",
   "execution_count": 12,
   "id": "a7f24bc7",
   "metadata": {},
   "outputs": [
    {
     "data": {
      "image/png": "[encoded data removed]",
      "text/plain": [
       "<Figure size 640x480 with 1 Axes>"
      ]
     },
     "metadata": {},
     "output_type": "display_data"
    }
   ],
   "source": [
    "# Proportion of last activity channel by conversion status\n",
    "activity_counts = (\n",
    "    customer.groupby([\"last_activity\", \"status\"])\n",
    "    .size()\n",
    "    .unstack()\n",
    "    .apply(lambda x: x / x.sum(), axis = 1)\n",
    ")\n",
    "\n",
    "# Stacked bar chart\n",
    "ax = activity_counts.plot(kind = \"bar\", stacked = True, color = [\"#1f77b4\", \"#ff7f0e\"])\n",
    "plt.title(\"Last Engagement Channel by Conversion Status\")\n",
    "plt.xlabel(\"Last Engagement Channel\")\n",
    "plt.ylabel(\"Proportion\")\n",
    "plt.xticks()\n",
    "\n",
    "# Add percentage labels\n",
    "for p in ax.patches:\n",
    "    width, height = p.get_width(), p.get_height()\n",
    "    x, y = p.get_xy()\n",
    "    ax.annotate(\n",
    "        f\"{height:.0%}\", \n",
    "        (x + width / 2, y + height / 2), \n",
    "        ha = \"center\"\n",
    "    )\n",
    "    \n",
    "plt.legend().remove();\n",
    "\n",
    "# save plot to outputs folder with dpi 300\n",
    "plt.savefig(\"outputs/last_engagement_channel_by_conversion_status.png\", dpi = 300, bbox_inches = \"tight\")"
   ]
  },
  {
   "cell_type": "markdown",
   "id": "e6f33220",
   "metadata": {},
   "source": [
    "### 2.4 Website Engagement Time by Conversion Status"
   ]
  },
  {
   "cell_type": "code",
   "execution_count": 13,
   "id": "dcec7c50",
   "metadata": {},
   "outputs": [
    {
     "data": {
      "image/png": "[encoded data removed]",
      "text/plain": [
       "<Figure size 640x480 with 1 Axes>"
      ]
     },
     "metadata": {},
     "output_type": "display_data"
    }
   ],
   "source": [
    "# Boxplot for website engagement time by conversion status\n",
    "sns.boxplot(\n",
    "    data = customer,\n",
    "    x = \"status\",\n",
    "    y = \"time_spent_on_website\",\n",
    "    hue = \"status\",\n",
    "    palette = [\"#1f77b4\", \"#ff7f0e\"]\n",
    ")\n",
    "plt.title(\"Engagement Time by Conversion Status\")\n",
    "plt.xlabel(\"Status\")\n",
    "plt.ylabel(\"Time Spent on Website (seconds)\")\n",
    "plt.legend().remove()\n",
    "plt.xticks([0, 1], [\"Unconverted\", \"Converted\"]);"
   ]
  },
  {
   "cell_type": "markdown",
   "id": "d0a79bd3",
   "metadata": {},
   "source": [
    "## 3. Customer Segmentation Analysis"
   ]
  },
  {
   "cell_type": "markdown",
   "id": "9ce4d17e",
   "metadata": {},
   "source": [
    "### 3.1 Cluster Analysis"
   ]
  },
  {
   "cell_type": "code",
   "execution_count": 14,
   "id": "c8eabf3b",
   "metadata": {},
   "outputs": [],
   "source": [
    "# Select features for clustering\n",
    "X_cluster = customer[[\"time_spent_on_website\", \"website_visits\", \"page_views_per_visit\"]]\n",
    "\n",
    "# Scale the features\n",
    "scaler = StandardScaler()\n",
    "X_cluster_scaled = scaler.fit_transform(X_cluster)\n",
    "\n",
    "# Cluster analysis\n",
    "n_clusters = range(2, 11, 1)\n",
    "inertia = []\n",
    "silhouette_scores = []\n",
    "\n",
    "for n in n_clusters:\n",
    "    kmeans = KMeans(n_clusters = n, random_state = 42)\n",
    "    kmeans.fit(X_cluster_scaled)\n",
    "    inertia.append(kmeans.inertia_)\n",
    "    silhouette_scores.append(silhouette_score(X_cluster_scaled, kmeans.labels_))\n",
    "\n",
    "# Convert the inertia and silhouette scores to DataFrames\n",
    "inertia_df = pd.DataFrame({\"n_clusters\": n_clusters, \"inertia\": inertia})\n",
    "silhouette_df = pd.DataFrame({\"n_clusters\": n_clusters, \"silhouette_score\": silhouette_scores})"
   ]
  },
  {
   "cell_type": "markdown",
   "id": "214f39e0",
   "metadata": {},
   "source": [
    "### 3.2 Elbow Method"
   ]
  },
  {
   "cell_type": "code",
   "execution_count": null,
   "id": "a40b87d2",
   "metadata": {},
   "outputs": [
    {
     "data": {
      "image/png": "[encoded data removed]",
      "text/plain": [
       "<Figure size 640x480 with 1 Axes>"
      ]
     },
     "metadata": {},
     "output_type": "display_data"
    }
   ],
   "source": [
    "# Plot the elbow method\n",
    "sns.lineplot(x = \"n_clusters\", y = \"inertia\", data = inertia_df, marker = \"o\")\n",
    "plt.xlabel(\"Number of Clusters\")\n",
    "plt.ylabel(\"Inertia\")\n",
    "plt.title(\"Elbow Method for Optimal Clusters\");"
   ]
  },
  {
   "cell_type": "markdown",
   "id": "8cee0278",
   "metadata": {},
   "source": [
    "### 3.3 Silhouette Method"
   ]
  },
  {
   "cell_type": "code",
   "execution_count": null,
   "id": "bc7d5c03",
   "metadata": {},
   "outputs": [
    {
     "data": {
      "image/png": "[encoded data removed]",
      "text/plain": [
       "<Figure size 640x480 with 1 Axes>"
      ]
     },
     "metadata": {},
     "output_type": "display_data"
    }
   ],
   "source": [
    "# Plot the silhouette scores\n",
    "sns.lineplot(x = \"n_clusters\", y = \"silhouette_score\", data = silhouette_df, marker = \"o\")\n",
    "plt.xlabel(\"Number of Clusters\")\n",
    "plt.ylabel(\"Silhouette Score\")\n",
    "plt.title(\"Silhouette Score for Optimal Clusters\");"
   ]
  },
  {
   "cell_type": "markdown",
   "id": "e0fa58d9",
   "metadata": {},
   "source": [
    "### 3.4 Final K-Means Model with the Optimal Number of Clusters"
   ]
  },
  {
   "cell_type": "code",
   "execution_count": 19,
   "id": "2cc28402",
   "metadata": {},
   "outputs": [
    {
     "name": "stdout",
     "output_type": "stream",
     "text": [
      "Inertia: 5615.79725801858\n",
      "Silhouette Score: 0.3964061324544142\n"
     ]
    }
   ],
   "source": [
    "# Build the final KMeans model with four clusters\n",
    "final_kmeans = KMeans(n_clusters = 4, random_state = 42)\n",
    "final_kmeans.fit(X_cluster_scaled)\n",
    "\n",
    "# Add the cluster labels to the original dataset\n",
    "customer_segmented = customer.copy()\n",
    "customer_segmented[\"cluster\"] = final_kmeans.labels_\n",
    "\n",
    "# Calculate the inertia and silhouette score for the final k-means model\n",
    "inertia_final = final_kmeans.inertia_\n",
    "silhouette_final = silhouette_score(X_cluster_scaled, final_kmeans.labels_)\n",
    "\n",
    "print(f\"Inertia: {inertia_final}\")\n",
    "print(f\"Silhouette Score: {silhouette_final}\")"
   ]
  },
  {
   "cell_type": "markdown",
   "id": "e69e29a4",
   "metadata": {},
   "source": [
    "### 3.5 Distribution of Clusters"
   ]
  },
  {
   "cell_type": "code",
   "execution_count": 21,
   "id": "4f4bd0d7",
   "metadata": {},
   "outputs": [
    {
     "data": {
      "image/png": "[encoded data removed]",
      "text/plain": [
       "<Figure size 640x480 with 1 Axes>"
      ]
     },
     "metadata": {},
     "output_type": "display_data"
    }
   ],
   "source": [
    "# Pie chart of clusters\n",
    "plt.pie(customer_segmented[\"cluster\"].value_counts(), labels = customer_segmented[\"cluster\"].value_counts().index + 1, autopct = \"%1.2f%%\")\n",
    "plt.xlabel(\"Clusters\")\n",
    "plt.ylabel(\"Proportion\")\n",
    "plt.title(\"Distribution of Clusters\");"
   ]
  },
  {
   "cell_type": "markdown",
   "id": "29c55410",
   "metadata": {},
   "source": [
    "### 3.6 Customer Conversation Status within Clusters"
   ]
  },
  {
   "cell_type": "code",
   "execution_count": null,
   "id": "bb6d214c",
   "metadata": {},
   "outputs": [
    {
     "data": {
      "image/png": "[encoded data removed]",
      "text/plain": [
       "<Figure size 640x480 with 1 Axes>"
      ]
     },
     "metadata": {},
     "output_type": "display_data"
    }
   ],
   "source": [
    "# Bar plot of clusters from clusters with their conversion status\n",
    "customer_segmented.groupby([\"cluster\", \"status\"]).size().unstack().plot(kind = \"bar\", stacked = True)\n",
    "plt.xlabel(\"Cluster\")\n",
    "plt.ylabel(\"Count\")\n",
    "plt.legend(title = \"Conversion Status\", labels = [\"Unconverted\", \"Converted\"])\n",
    "plt.title(\"Customer Segments and their Conversion Status\");"
   ]
  },
  {
   "cell_type": "markdown",
   "id": "54a18fe5",
   "metadata": {},
   "source": [
    "### 3.7 Cluster Summary"
   ]
  },
  {
   "cell_type": "code",
   "execution_count": null,
   "id": "1579e0ef",
   "metadata": {},
   "outputs": [],
   "source": [
    "# Summary of customer segments\n",
    "customer_segmented_summary = customer_segmented.groupby(\"cluster\").agg(\n",
    "    {\n",
    "        \"time_spent_on_website\": [\"mean\"],\n",
    "        \"website_visits\": [\"mean\"],\n",
    "        \"page_views_per_visit\": [\"mean\"],\n",
    "        \"status\": lambda x: x.sum() / customer[\"status\"].sum(),\n",
    "    }\n",
    ").reset_index()\n",
    "customer_segmented_summary.columns = [\"Cluster\", \"Average Time Spent on Website\", \"Average Website Visits\", \"Average Page Views per Visit\", \"Proportion of Converted Customers\"]\n",
    "\n",
    "# Round the values to 2 decimal places\n",
    "customer_segmented_summary[\"Average Time Spent on Website\"] = customer_segmented_summary[\"Average Time Spent on Website\"].round(2)\n",
    "customer_segmented_summary[\"Average Website Visits\"] = customer_segmented_summary[\"Average Website Visits\"].round(2)\n",
    "customer_segmented_summary[\"Average Page Views per Visit\"] = customer_segmented_summary[\"Average Page Views per Visit\"].round(2)\n",
    "customer_segmented_summary[\"Proportion of Converted Customers\"] = customer_segmented_summary[\"Proportion of Converted Customers\"].round(2)\n",
    "\n",
    "# Display the summary DataFrame\n",
    "customer_segmented_summary\n"
   ]
  },
  {
   "cell_type": "markdown",
   "id": "49a120cb",
   "metadata": {},
   "source": [
    "## 4. Feature Engineering"
   ]
  },
  {
   "cell_type": "markdown",
   "id": "00e052fb",
   "metadata": {},
   "source": [
    "### 4.1 One Hot Encoding"
   ]
  },
  {
   "cell_type": "code",
   "execution_count": null,
   "id": "215c1905",
   "metadata": {},
   "outputs": [],
   "source": [
    "# Separate features that need to be encoded\n",
    "categorical_features = [\"current_occupation\", \"first_interaction\", \"profile_completed\", \"last_activity\"]\n",
    "other_features = [col for col in customer.columns if col not in categorical_features + [\"status\"]]\n",
    "\n",
    "# Initialize OneHotEncoder\n",
    "ohe = OneHotEncoder(sparse_output = False, drop = None)\n",
    "\n",
    "# Perform one-hot encoding on the categorical features\n",
    "customer_ohe = pd.DataFrame(\n",
    "    ohe.fit_transform(customer[categorical_features]).astype(int),\n",
    "    columns = ohe.get_feature_names_out(categorical_features),\n",
    "    index = customer.index\n",
    ")\n",
    "\n",
    "# Concatenate the one-hot encoded DataFrame with the original DataFrame\n",
    "customer_encoded = pd.concat([\n",
    "    customer[other_features],\n",
    "    customer_ohe\n",
    "], axis = 1)"
   ]
  },
  {
   "cell_type": "markdown",
   "id": "3a15f06b",
   "metadata": {},
   "source": [
    "### 4.2 Label Encoding"
   ]
  },
  {
   "cell_type": "code",
   "execution_count": null,
   "id": "4956b39f",
   "metadata": {},
   "outputs": [],
   "source": [
    "# Label encoding\n",
    "customer_encoded[\"print_media_type1\"] = np.where(customer_encoded[\"print_media_type1\"] == 'Yes', 1, 0)\n",
    "customer_encoded[\"print_media_type2\"] = np.where(customer_encoded[\"print_media_type2\"] == 'Yes', 1, 0)\n",
    "customer_encoded[\"digital_media\"] = np.where(customer_encoded[\"digital_media\"] == 'Yes', 1, 0)\n",
    "customer_encoded[\"educational_channels\"] = np.where(customer_encoded[\"educational_channels\"] == 'Yes', 1, 0)\n",
    "customer_encoded[\"referral\"] = np.where(customer_encoded[\"referral\"] == 'Yes', 1, 0)\n",
    "\n",
    "# Display the first few rows of the encoded DataFrame\n",
    "customer_encoded.head()\n"
   ]
  },
  {
   "cell_type": "markdown",
   "id": "f94ce766",
   "metadata": {},
   "source": [
    "## 5. Predictive Model Development and Selection"
   ]
  },
  {
   "cell_type": "markdown",
   "id": "3a1ac4a2",
   "metadata": {},
   "source": [
    "### 5.1 Train-Test Split"
   ]
  },
  {
   "cell_type": "code",
   "execution_count": null,
   "id": "f5555ba0",
   "metadata": {},
   "outputs": [],
   "source": [
    "# Target vector\n",
    "y = customer[\"status\"]\n",
    "\n",
    "# Feature matrix\n",
    "X = customer_encoded\n",
    "\n",
    "# Perform a train-test split\n",
    "X_train, X_test, y_train, y_test = train_test_split(X, y, test_size = 0.2, random_state = 42)\n",
    "\n",
    "# Shape of the training and test sets\n",
    "X_train.shape, y_train.shape, X_test.shape, y_test.shape"
   ]
  },
  {
   "cell_type": "markdown",
   "id": "c1346cd4",
   "metadata": {},
   "source": [
    "### 5.2 Logistic Regression"
   ]
  },
  {
   "cell_type": "code",
   "execution_count": null,
   "id": "f8f75db0",
   "metadata": {},
   "outputs": [],
   "source": [
    "# Instantiate the Logistic Regression model\n",
    "log_reg = LogisticRegression(max_iter = 10000, random_state = 42)\n",
    "\n",
    "# Fit the model to the training data\n",
    "log_reg.fit(X_train, y_train)\n",
    "\n",
    "# Make predictions on the test set\n",
    "y_pred_log_reg = log_reg.predict(X_test)\n",
    "\n",
    "# Classification report\n",
    "print(classification_report(y_test, y_pred_log_reg))"
   ]
  },
  {
   "cell_type": "code",
   "execution_count": null,
   "id": "df70f364",
   "metadata": {},
   "outputs": [],
   "source": [
    "warnings.filterwarnings(\"ignore\", category = ConvergenceWarning)\n",
    "warnings.filterwarnings(\"ignore\", category = UserWarning)\n",
    "\n",
    "# Hyperparameter tuning\n",
    "penalty = [\"l1\", \"l2\", None]\n",
    "C = [0.01, 0.1, 1, 10, 100]\n",
    "solver = [\"liblinear\", \"lbfgs\"]\n",
    "max_iter = [100, 1000, 10000]\n",
    "\n",
    "# Initialize an empty list to store the results\n",
    "results = []\n",
    "\n",
    "# Loop through the hyperparameters\n",
    "for p in penalty:\n",
    "    for c in C:\n",
    "        for s in solver:\n",
    "            for m in max_iter:\n",
    "                try:\n",
    "                    # Instantiate the Logistic Regression model with the current hyperparameters\n",
    "                    log_reg = LogisticRegression(penalty = p, C = c, solver = s, max_iter = m, random_state = 42)\n",
    "\n",
    "                    # Fit the model to the training data\n",
    "                    log_reg.fit(X_train, y_train)\n",
    "\n",
    "                    # Make predictions on the test set\n",
    "                    y_pred = log_reg.predict(X_test)\n",
    "\n",
    "                    # Calculate accuracy\n",
    "                    accuracy = accuracy_score(y_test, y_pred)\n",
    "\n",
    "                    # Append the results to the list\n",
    "                    results.append((p, c, s, m, accuracy))\n",
    "\n",
    "                except Exception as e:\n",
    "                    # Handle cases where the combination of hyperparameters is invalid\n",
    "                    results.append((p, c, s, m, None))"
   ]
  },
  {
   "cell_type": "code",
   "execution_count": null,
   "id": "fa10eaad",
   "metadata": {},
   "outputs": [],
   "source": [
    "# Convert the results to a DataFrame\n",
    "log_reg_tuned_results = pd.DataFrame(results, columns = [\"Penalty\", \"C\", \"Solver\", \"Max Iter\", \"Accuracy\"])\n",
    "\n",
    "# Display the results DataFrame\n",
    "log_reg_tuned_results[\"Accuracy\"] = log_reg_tuned_results[\"Accuracy\"].round(4)\n",
    "log_reg_tuned_results.sort_values(by = \"Accuracy\", ascending = False).head(10)\n",
    "\n",
    "# Select the best hyperparameters\n",
    "best_log_reg_hyperparameters = log_reg_tuned_results.loc[log_reg_tuned_results[\"Accuracy\"].idxmax()]\n",
    "print(f\"Best Hyperparameters: {best_log_reg_hyperparameters['Penalty']}, {best_log_reg_hyperparameters['C']}, {best_log_reg_hyperparameters['Solver']}, {best_log_reg_hyperparameters['Max Iter']}\")"
   ]
  },
  {
   "cell_type": "code",
   "execution_count": null,
   "id": "d7bba960",
   "metadata": {},
   "outputs": [],
   "source": [
    "warnings.filterwarnings(\"ignore\", category = ConvergenceWarning)\n",
    "warnings.filterwarnings(\"ignore\", category = UserWarning)\n",
    "\n",
    "# Build the final Logistic Regression model with the best hyperparameters\n",
    "log_reg_final = LogisticRegression(\n",
    "    penalty = best_log_reg_hyperparameters[\"Penalty\"],\n",
    "    C = best_log_reg_hyperparameters[\"C\"],\n",
    "    solver = best_log_reg_hyperparameters[\"Solver\"],\n",
    "    max_iter = best_log_reg_hyperparameters[\"Max Iter\"],\n",
    "    random_state = 42\n",
    ")\n",
    "\n",
    "# Fit the final model to the training data\n",
    "log_reg_final.fit(X_train, y_train)\n",
    "\n",
    "# Make predictions on the test set\n",
    "y_pred_log_reg_final = log_reg_final.predict(X_test)\n",
    "\n",
    "# Classification report for the final model\n",
    "print(classification_report(y_test, y_pred_log_reg_final))\n",
    "\n",
    "# Confusion matrix for the final model\n",
    "conf_matrix = confusion_matrix(y_test, y_pred_log_reg_final)\n",
    "sns.heatmap(conf_matrix, annot = True, fmt = \"d\", cmap = \"Blues\", cbar = False)\n",
    "plt.xlabel(\"Predicted Label\")\n",
    "plt.ylabel(\"True Label\")\n",
    "plt.title(\"Confusion Matrix for Final Logistic Regression Model\");"
   ]
  },
  {
   "cell_type": "markdown",
   "id": "01deaaa8",
   "metadata": {},
   "source": [
    "### 5.3 Decision Tree"
   ]
  },
  {
   "cell_type": "code",
   "execution_count": null,
   "id": "94ad399b",
   "metadata": {},
   "outputs": [],
   "source": [
    "# Instantiate the Decision Tree Classifier model\n",
    "dt_classifier = DecisionTreeClassifier(random_state = 42)\n",
    "\n",
    "# Fit the model to the training data\n",
    "dt_classifier.fit(X_train, y_train)\n",
    "\n",
    "# Make predictions on the test set\n",
    "y_pred_dt = dt_classifier.predict(X_test)\n",
    "\n",
    "# Classification report for the Decision Tree Classifier\n",
    "print(classification_report(y_test, y_pred_dt))"
   ]
  },
  {
   "cell_type": "code",
   "execution_count": null,
   "id": "79ebc335",
   "metadata": {},
   "outputs": [],
   "source": [
    "warnings.filterwarnings(\"ignore\", category = ConvergenceWarning)\n",
    "warnings.filterwarnings(\"ignore\", category = UserWarning)\n",
    "\n",
    "# Hyperparameter tuning\n",
    "criterion = [\"gini\", \"entropy\"]\n",
    "max_depth = [None, 1, 2, 3, 4, 5, 6, 7, 8, 9, 10]\n",
    "max_features = [None, \"sqrt\", \"log2\"]\n",
    "\n",
    "# Initialize an empty list to store the results\n",
    "results = []\n",
    "\n",
    "# Loop through the hyperparameters\n",
    "for c in criterion:\n",
    "    for d in max_depth:\n",
    "        for f in max_features:\n",
    "            try:\n",
    "                # Instantiate the Decision Tree Classifier model with the current hyperparameters\n",
    "                dt_classifier = DecisionTreeClassifier(criterion = c, max_depth = d, max_features = f, random_state = 42)\n",
    "\n",
    "                # Fit the model to the training data\n",
    "                dt_classifier.fit(X_train, y_train)\n",
    "\n",
    "                # Make predictions on the test set\n",
    "                y_pred = dt_classifier.predict(X_test)\n",
    "\n",
    "                # Calculate accuracy\n",
    "                accuracy = accuracy_score(y_test, y_pred)\n",
    "\n",
    "                # Append the results to the list\n",
    "                results.append((c, d, f, accuracy))\n",
    "\n",
    "            except Exception as e:\n",
    "                # Handle cases where the combination of hyperparameters is invalid\n",
    "                results.append((c, d, f, None))"
   ]
  },
  {
   "cell_type": "code",
   "execution_count": null,
   "id": "c69e59e8",
   "metadata": {},
   "outputs": [],
   "source": [
    "# Convert results to a DataFrame\n",
    "dt_tuned_results = pd.DataFrame(results, columns=[\"Criterion\", \"Max Depth\", \"Max Features\", \"Accuracy\"])\n",
    "\n",
    "# Display the results DataFrame\n",
    "dt_tuned_results[\"Accuracy\"] = dt_tuned_results[\"Accuracy\"].round(4)\n",
    "dt_tuned_results.sort_values(by = \"Accuracy\", ascending = False).head(10)\n",
    "\n",
    "# Select the best hyperparameters\n",
    "best_dt_hyperparameters = dt_tuned_results.loc[dt_tuned_results[\"Accuracy\"].idxmax()]\n",
    "print(f\"Best Hyperparameters: {best_dt_hyperparameters['Criterion']}, {best_dt_hyperparameters['Max Depth']}, {best_dt_hyperparameters['Max Features']}\")"
   ]
  },
  {
   "cell_type": "code",
   "execution_count": null,
   "id": "3138b1fa",
   "metadata": {},
   "outputs": [],
   "source": [
    "# Build the final Decision Tree Classifier model with the best hyperparameters\n",
    "dt_classifier_final = DecisionTreeClassifier(\n",
    "    criterion = best_dt_hyperparameters[\"Criterion\"],\n",
    "    max_depth = best_dt_hyperparameters[\"Max Depth\"].astype(int),\n",
    "    max_features = best_dt_hyperparameters[\"Max Features\"],\n",
    "    random_state = 42\n",
    ")\n",
    "\n",
    "# Fit the final model to the training data\n",
    "dt_classifier_final.fit(X_train, y_train)\n",
    "\n",
    "# Make predictions on the test set\n",
    "y_pred_dt_final = dt_classifier_final.predict(X_test)\n",
    "\n",
    "# Classification report for the final model\n",
    "print(classification_report(y_test, y_pred_dt_final))\n",
    "\n",
    "# Confusion matrix for the final model\n",
    "conf_matrix = confusion_matrix(y_test, y_pred_dt_final)\n",
    "sns.heatmap(conf_matrix, annot = True, fmt = \"d\", cmap = \"Blues\", cbar = False) \n",
    "plt.xlabel(\"Predicted Label\")\n",
    "plt.ylabel(\"True Label\")\n",
    "plt.title(\"Confusion Matrix for Final Decision Tree Model\");"
   ]
  },
  {
   "cell_type": "markdown",
   "id": "bda32a8b",
   "metadata": {},
   "source": [
    "### 5.4 Gradient Boosting"
   ]
  },
  {
   "cell_type": "code",
   "execution_count": null,
   "id": "e7c5e9fa",
   "metadata": {},
   "outputs": [],
   "source": [
    "# Initialize the Gradient Boosting model\n",
    "gb_model = GradientBoostingClassifier(random_state=42)\n",
    "\n",
    "# Train the model\n",
    "gb_model.fit(X_train, y_train)\n",
    "\n",
    "# Make predictions\n",
    "y_pred = gb_model.predict(X_test)\n",
    "\n",
    "# Evaluate the model\n",
    "accuracy = accuracy_score(y_test, y_pred)\n",
    "print(f\"Accuracy: {accuracy:.4f}\")\n",
    "\n",
    "print(\"Classification Report:\")\n",
    "print(classification_report(y_test, y_pred))"
   ]
  },
  {
   "cell_type": "code",
   "execution_count": null,
   "id": "a60cb9ae",
   "metadata": {},
   "outputs": [],
   "source": [
    "# Set up parameter grid\n",
    "param_grid = {\n",
    "    'n_estimators': [100, 200],\n",
    "    'learning_rate': [0.05, 0.1, 0.2],\n",
    "    'max_depth': [3, 5, 7],\n",
    "}\n",
    "\n",
    "# Initialize GridSearchCV\n",
    "grid_search = GridSearchCV(\n",
    "    GradientBoostingClassifier(random_state=42),\n",
    "    param_grid,\n",
    "    cv=5,\n",
    "    n_jobs=-1,\n",
    "    verbose=2\n",
    ")\n",
    "\n",
    "# Fit GridSearchCV\n",
    "grid_search.fit(X_train, y_train)\n",
    "\n",
    "# Best model and evaluation\n",
    "print(\"Best Hyperparameters:\", grid_search.best_params_)\n",
    "\n",
    "best_gb_model = grid_search.best_estimator_\n",
    "y_pred_best = best_gb_model.predict(X_test)\n",
    "\n",
    "accuracy = accuracy_score(y_test, y_pred_best)\n",
    "print(f\"Fine-Tuned Accuracy: {accuracy:.4f}\")\n",
    "print(\"Classification Report:\")\n",
    "print(classification_report(y_test, y_pred_best))"
   ]
  },
  {
   "cell_type": "code",
   "execution_count": null,
   "id": "78823eef",
   "metadata": {},
   "outputs": [],
   "source": [
    "# Print the confusion matrix\n",
    "print(classification_report(y_test, y_pred_best))\n",
    "conf_matrix = confusion_matrix(y_test, y_pred_best)\n",
    "\n",
    "plt.figure(figsize=(6,4))\n",
    "sns.heatmap(conf_matrix, annot=True, fmt=\"d\", cmap=\"Blues\", cbar=False)\n",
    "plt.xlabel(\"Predicted Label\")\n",
    "plt.ylabel(\"True Label\")\n",
    "plt.title(\"Confusion Matrix for Final Gradient Boosting Model\")\n",
    "plt.show()"
   ]
  },
  {
   "cell_type": "markdown",
   "id": "88207f21",
   "metadata": {},
   "source": [
    "### 5.5 XGBoost"
   ]
  },
  {
   "cell_type": "code",
   "execution_count": null,
   "id": "15121f8c",
   "metadata": {},
   "outputs": [],
   "source": [
    "# Instantiate and fit the XGBoost Classifier model\n",
    "xgb_model = XGBClassifier(eval_metric = \"logloss\")\n",
    "xgb_model.fit(X_train, y_train)\n",
    "\n",
    "# Make predictions on the test set\n",
    "y_pred_xgb = xgb_model.predict(X_test)\n",
    "\n",
    "# Accuracy and classification report for the XGBoost Classifier\n",
    "print(\"Accuracy:\", accuracy_score(y_test, y_pred_xgb))\n",
    "print(\"\\nClassification Report:\\n\", classification_report(y_test, y_pred_xgb))"
   ]
  },
  {
   "cell_type": "code",
   "execution_count": null,
   "id": "b947d060",
   "metadata": {},
   "outputs": [],
   "source": [
    "# Define the parameter grid for hyperparameter tuning\n",
    "param_grid = {\n",
    "    \"n_estimators\": [100, 200],\n",
    "    \"max_depth\": [3, 5, 7],\n",
    "    \"learning_rate\": [0.01, 0.1, 0.2],\n",
    "    \"subsample\": [0.8, 1.0]\n",
    "}\n",
    "\n",
    "# Instantiate the XGBoost Classifier\n",
    "xgb_clf = XGBClassifier(eval_metric = \"logloss\")\n",
    "\n",
    "# Perform grid search with cross-validation\n",
    "grid_search = GridSearchCV(\n",
    "    estimator = xgb_clf,\n",
    "    param_grid = param_grid,\n",
    "    scoring = \"accuracy\",\n",
    "    cv = 5,\n",
    "    n_jobs = -1,\n",
    "    verbose = 1\n",
    ")\n",
    "grid_search.fit(X_train, y_train)\n",
    "\n",
    "# Convert the grid search results to a DataFrame\n",
    "results_df = pd.DataFrame(grid_search.cv_results_)\n",
    "\n",
    "# Select relevant columns and rename for clarity\n",
    "xgb_tuned_results = results_df[[\n",
    "    \"param_n_estimators\", \"param_max_depth\", \"param_learning_rate\",\n",
    "    \"param_subsample\", \"mean_test_score\"\n",
    "]].copy()\n",
    "xgb_tuned_results.columns = [\"N Estimators\", \"Max Depth\", \"Learning Rate\", \"Subsample\", \"Accuracy\"]\n",
    "xgb_tuned_results[\"Accuracy\"] = xgb_tuned_results[\"Accuracy\"].round(4)\n",
    "\n",
    "# Identify the best hyperparameters\n",
    "best_xgb_hyperparams = xgb_tuned_results.loc[xgb_tuned_results[\"Accuracy\"].idxmax()]\n",
    "print(f\"Best Hyperparameters:\\n{best_xgb_hyperparams}\")"
   ]
  },
  {
   "cell_type": "code",
   "execution_count": null,
   "id": "c7a983f4",
   "metadata": {},
   "outputs": [],
   "source": [
    "# Build the final XGBoost model with the best hyperparameters\n",
    "best_model = XGBClassifier(\n",
    "    n_estimators = int(best_xgb_hyperparams[\"N Estimators\"]),\n",
    "    max_depth = int(best_xgb_hyperparams[\"Max Depth\"]),\n",
    "    learning_rate = float(best_xgb_hyperparams[\"Learning Rate\"]),\n",
    "    subsample = float(best_xgb_hyperparams[\"Subsample\"]),\n",
    "    eval_metric = \"logloss\",\n",
    "    random_state = 42\n",
    ")\n",
    "\n",
    "# Fit the model to the training data\n",
    "best_model.fit(X_train, y_train)\n",
    "\n",
    "# Make predictions on the test set\n",
    "y_pred_final = best_model.predict(X_test)\n",
    "\n",
    "# Accuracy and classification report\n",
    "print(f\"Accuracy: {accuracy_score(y_test, y_pred_final):.4f}\")\n",
    "print(\"\\nClassification Report:\\n\", classification_report(y_test, y_pred_final))\n",
    "\n",
    "# Confusion matrix\n",
    "conf_matrix = confusion_matrix(y_test, y_pred_final)\n",
    "plt.figure(figsize = (6, 4))\n",
    "sns.heatmap(conf_matrix, annot = True, fmt = \"d\", cmap = \"Blues\", cbar = False)\n",
    "plt.xlabel(\"Predicted Label\")\n",
    "plt.ylabel(\"True Label\")\n",
    "plt.title(\"Confusion Matrix for Final XGBoost Model\");\n",
    "plt.show()"
   ]
  },
  {
   "cell_type": "markdown",
   "id": "710e9be7",
   "metadata": {},
   "source": [
    "### 5.6 Random Forest"
   ]
  },
  {
   "cell_type": "code",
   "execution_count": null,
   "id": "dcf686e4",
   "metadata": {},
   "outputs": [],
   "source": [
    "# Initialize the Random Forest model\n",
    "rf_model = RandomForestClassifier(random_state=42)\n",
    "\n",
    "# Fit the model on the training data\n",
    "rf_model.fit(X_train, y_train)\n",
    "\n",
    "# Make predictions on the test set\n",
    "y_pred = rf_model.predict(X_test)\n",
    "\n",
    "# Evaluate the model\n",
    "accuracy = accuracy_score(y_test, y_pred)\n",
    "print(f\"Accuracy: {accuracy:.4f}\")\n",
    "\n",
    "# Print classification report for more detailed metrics\n",
    "print(\"Classification Report:\")\n",
    "print(classification_report(y_test, y_pred))"
   ]
  },
  {
   "cell_type": "code",
   "execution_count": null,
   "id": "deca22bd",
   "metadata": {},
   "outputs": [],
   "source": [
    "warnings.filterwarnings(\"ignore\", category = ConvergenceWarning)\n",
    "warnings.filterwarnings(\"ignore\", category = UserWarning)\n",
    "\n",
    "# Define the model\n",
    "rf_model = RandomForestClassifier(random_state=42)\n",
    "\n",
    "# Define the hyperparameter grid\n",
    "param_grid = {\n",
    "    'n_estimators': [100, 200, 300],  # Number of trees in the forest\n",
    "    'max_depth': [None, 10, 20, 30],  # Maximum depth of the trees\n",
    "    'min_samples_split': [2, 5, 10],  # Minimum number of samples required to split an internal node\n",
    "    'min_samples_leaf': [1, 2, 4],  # Minimum number of samples required to be at a leaf node\n",
    "    'max_features': ['auto', 'sqrt', 'log2']  # Number of features to consider when looking for the best split\n",
    "}\n",
    "\n",
    "# Initialize GridSearchCV\n",
    "grid_search = GridSearchCV(estimator=rf_model, param_grid=param_grid, cv=5, n_jobs=-1, verbose=2)\n",
    "\n",
    "# Fit GridSearchCV\n",
    "grid_search.fit(X_train, y_train)\n",
    "\n",
    "# Get the best hyperparameters\n",
    "print(\"Best hyperparameters found: \", grid_search.best_params_)\n",
    "\n",
    "# Get the best model\n",
    "best_rf_model = grid_search.best_estimator_\n",
    "\n",
    "# Make predictions on the test set\n",
    "y_pred = best_rf_model.predict(X_test)\n",
    "\n",
    "# Evaluate the model\n",
    "accuracy = accuracy_score(y_test, y_pred)\n",
    "print(f\"Accuracy of fine-tuned model: {accuracy:.4f}\")\n",
    "\n",
    "# Print classification report for more detailed metrics\n",
    "print(\"Classification Report:\")\n",
    "print(classification_report(y_test, y_pred))"
   ]
  },
  {
   "cell_type": "code",
   "execution_count": null,
   "id": "27c73b26",
   "metadata": {},
   "outputs": [],
   "source": [
    "# Confusion matrix for the final model\n",
    "print(classification_report(y_test, y_pred))\n",
    "conf_matrix = confusion_matrix(y_test, y_pred)\n",
    "\n",
    "plt.figure(figsize=(6,4))\n",
    "sns.heatmap(conf_matrix, annot=True, fmt=\"d\", cmap=\"Blues\", cbar=False)\n",
    "plt.xlabel(\"Predicted Label\")\n",
    "plt.ylabel(\"True Label\")\n",
    "plt.title(\"Confusion Matrix for Final Random Forest Model\")\n",
    "plt.show()"
   ]
  },
  {
   "cell_type": "markdown",
   "id": "89894c2d",
   "metadata": {},
   "source": [
    "## 6. Predictive Model Evaluation"
   ]
  },
  {
   "cell_type": "markdown",
   "id": "22c72090",
   "metadata": {},
   "source": [
    "### 6.1 Feature Importances"
   ]
  },
  {
   "cell_type": "code",
   "execution_count": null,
   "id": "e1a00ed0",
   "metadata": {},
   "outputs": [],
   "source": [
    "# Feature importances\n",
    "importances = best_model.feature_importances_\n",
    "feature_names = X.columns\n",
    "feat_imp = pd.Series(importances, index = feature_names)\n",
    "\n",
    "# Plot feature importances\n",
    "feat_imp.sort_values().head(10).plot(kind = \"barh\")\n",
    "plt.title(\"Top 10 Feature Importances\")\n",
    "plt.xlabel(\"Feature Importance\")\n",
    "plt.ylabel(\"Feature Names\");"
   ]
  },
  {
   "cell_type": "markdown",
   "id": "135b7277",
   "metadata": {},
   "source": [
    "### 6.2 Champion Model Evaluation"
   ]
  },
  {
   "cell_type": "code",
   "execution_count": null,
   "id": "f34683ba",
   "metadata": {},
   "outputs": [],
   "source": [
    "# Print accuracy score for the champion model\n",
    "print(f\"Champion Model Accuracy: {accuracy_score(y_test, y_pred_final):.4f}\")\n",
    "\n",
    "# Get classification report as a dictionary\n",
    "report = classification_report(y_test, y_pred_final, output_dict=True)\n",
    "\n",
    "# Print recall score for the champion model\n",
    "print(f\"Champion Model Recall: {report['1']['recall']:.4f}\")\n",
    "\n",
    "# Print precision score for the champion model\n",
    "print(f\"Champion Model Precision: {report['1']['precision']:.4f}\")\n",
    "\n",
    "# Print confusion matrix for the champion model\n",
    "conf_matrix = confusion_matrix(y_test, y_pred_final)\n",
    "sns.heatmap(conf_matrix, annot = True, fmt = \"d\", cmap = \"Blues\", cbar = False)\n",
    "plt.xlabel(\"Predicted Label\")\n",
    "plt.ylabel(\"True Label\")\n",
    "plt.title(\"Confusion Matrix for Champion Model\")\n",
    "plt.show();"
   ]
  }
 ],
 "metadata": {
  "kernelspec": {
   "display_name": "Python 3",
   "language": "python",
   "name": "python3"
  },
  "language_info": {
   "codemirror_mode": {
    "name": "ipython",
    "version": 3
   },
   "file_extension": ".py",
   "mimetype": "text/x-python",
   "name": "python",
   "nbconvert_exporter": "python",
   "pygments_lexer": "ipython3",
   "version": "3.13.2"
  }
 },
 "nbformat": 4,
 "nbformat_minor": 5
}
